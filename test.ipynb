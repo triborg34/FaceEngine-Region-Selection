{
 "cells": [
  {
   "cell_type": "code",
   "execution_count": 44,
   "id": "da5e007d",
   "metadata": {},
   "outputs": [],
   "source": [
    "import json\n",
    "from urllib.parse import urlparse\n",
    "\n",
    "\n",
    "def load_regions( soruce,file_path='regions.json'):\n",
    "        \"\"\"Load regions from JSON file\"\"\"\n",
    "        url = urlparse(soruce).hostname\n",
    "\n",
    "        try:\n",
    "            with open(file_path, 'r') as f:\n",
    "                data = json.load(f)\n",
    "\n",
    "                for ip in data:\n",
    "                    # print(ip['ip'])\n",
    "                    if url==ip['ip']:\n",
    "                       \n",
    "                        return ip.get('regions',{})\n",
    "\n",
    "            # return data.get('regions', {})\n",
    "        except Exception as e:\n",
    "            print(f\"Error loading regions: {e}\")\n",
    "            return {}"
   ]
  },
  {
   "cell_type": "code",
   "execution_count": 45,
   "id": "3bde8364",
   "metadata": {},
   "outputs": [],
   "source": [
    "reg=load_regions(soruce=\"rtsp://192.168.1.189:554/stream\")"
   ]
  },
  {
   "cell_type": "code",
   "execution_count": 46,
   "id": "5abbb09f",
   "metadata": {},
   "outputs": [
    {
     "name": "stdout",
     "output_type": "stream",
     "text": [
      "None\n"
     ]
    }
   ],
   "source": [
    "print(reg)"
   ]
  }
 ],
 "metadata": {
  "kernelspec": {
   "display_name": "myenv",
   "language": "python",
   "name": "python3"
  },
  "language_info": {
   "codemirror_mode": {
    "name": "ipython",
    "version": 3
   },
   "file_extension": ".py",
   "mimetype": "text/x-python",
   "name": "python",
   "nbconvert_exporter": "python",
   "pygments_lexer": "ipython3",
   "version": "3.10.10"
  }
 },
 "nbformat": 4,
 "nbformat_minor": 5
}
